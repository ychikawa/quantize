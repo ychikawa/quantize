{
  "nbformat": 4,
  "nbformat_minor": 0,
  "metadata": {
    "colab": {
      "provenance": [],
      "authorship_tag": "ABX9TyPSP/ZEMc+GTltu1i2eNAB2",
      "include_colab_link": true
    },
    "kernelspec": {
      "name": "python3",
      "display_name": "Python 3"
    },
    "language_info": {
      "name": "python"
    },
    "accelerator": "GPU",
    "gpuClass": "standard"
  },
  "cells": [
    {
      "cell_type": "markdown",
      "metadata": {
        "id": "view-in-github",
        "colab_type": "text"
      },
      "source": [
        "<a href=\"https://colab.research.google.com/github/ychikawa/quantize/blob/main/tflite_mnist.ipynb\" target=\"_parent\"><img src=\"https://colab.research.google.com/assets/colab-badge.svg\" alt=\"Open In Colab\"/></a>"
      ]
    },
    {
      "cell_type": "markdown",
      "source": [
        "# TensorFlow"
      ],
      "metadata": {
        "id": "bn64_GXPJtuP"
      }
    },
    {
      "cell_type": "markdown",
      "source": [
        "## Setup"
      ],
      "metadata": {
        "id": "YfH35fKqH4iP"
      }
    },
    {
      "cell_type": "code",
      "source": [
        "import tensorflow as tf\n",
        "from tensorflow import keras\n",
        "import numpy as np\n",
        "import matplotlib.pyplot as plt"
      ],
      "metadata": {
        "id": "Po6PTqINFp2s"
      },
      "execution_count": null,
      "outputs": []
    },
    {
      "cell_type": "code",
      "source": [
        "mnist = tf.keras.datasets.mnist\n",
        "(images_train, labels_train),(images_test, labels_test) = mnist.load_data()\n",
        "class_names = [\"zero\",\"one\",\"two\",\"three\",\"four\",\"five\",\"six\",\"seven\",\"eight\",\"nine\"]"
      ],
      "metadata": {
        "id": "vrv4JrJsFvKr"
      },
      "execution_count": null,
      "outputs": []
    },
    {
      "cell_type": "code",
      "source": [
        "plt.figure()\n",
        "plt.rcParams['image.cmap']='Greys'\n",
        "plt.imshow(images_train[0])\n",
        "plt.grid(False)\n",
        "plt.xlabel(\"Classification label: {}\".format(labels_train[0]))\n",
        "plt.colorbar()\n",
        "plt.show()"
      ],
      "metadata": {
        "colab": {
          "base_uri": "https://localhost:8080/",
          "height": 279
        },
        "id": "f7hRk2MTFvyF",
        "outputId": "5dc40f67-7182-4364-8b6e-65026d97cd16"
      },
      "execution_count": null,
      "outputs": [
        {
          "output_type": "display_data",
          "data": {
            "text/plain": [
              "<Figure size 432x288 with 2 Axes>"
            ],
            "image/png": "[encoded data removed]"
          },
          "metadata": {
            "needs_background": "light"
          }
        }
      ]
    },
    {
      "cell_type": "code",
      "source": [
        "images_train=images_train/255.0\n",
        "images_test=images_test/255.0"
      ],
      "metadata": {
        "id": "nbKoBANTGZHR"
      },
      "execution_count": null,
      "outputs": []
    },
    {
      "cell_type": "markdown",
      "source": [
        "## Model training"
      ],
      "metadata": {
        "id": "YmdOgM93Hw4U"
      }
    },
    {
      "cell_type": "code",
      "source": [
        "model = keras.models.Sequential([\n",
        "  keras.layers.Flatten(input_shape=(28,28)),\n",
        "  keras.layers.Dense(512, activation=tf.nn.relu),\n",
        "  keras.layers.Dropout(0.2),\n",
        "  keras.layers.Dense(512, activation=tf.nn.relu),\n",
        "  keras.layers.Dropout(0.2),\n",
        "  keras.layers.Dense(10, activation=tf.nn.softmax)\n",
        "])\n",
        "model.compile(optimizer='adam',\n",
        "              loss='sparse_categorical_crossentropy',\n",
        "              metrics=['accuracy'])"
      ],
      "metadata": {
        "id": "jKiON5DMGySp"
      },
      "execution_count": null,
      "outputs": []
    },
    {
      "cell_type": "code",
      "source": [
        "model.fit(images_train, labels_train, epochs=16, batch_size=1024)"
      ],
      "metadata": {
        "colab": {
          "base_uri": "https://localhost:8080/"
        },
        "id": "H83TBLs-HqYf",
        "outputId": "d27689f6-6e91-436c-f3c9-b0dc14d7c4b1"
      },
      "execution_count": null,
      "outputs": [
        {
          "output_type": "stream",
          "name": "stdout",
          "text": [
            "Epoch 1/16\n",
            "59/59 [==============================] - 5s 9ms/step - loss: 0.5103 - accuracy: 0.8512\n",
            "Epoch 2/16\n",
            "59/59 [==============================] - 0s 8ms/step - loss: 0.1798 - accuracy: 0.9470\n",
            "Epoch 3/16\n",
            "59/59 [==============================] - 0s 7ms/step - loss: 0.1214 - accuracy: 0.9635\n",
            "Epoch 4/16\n",
            "59/59 [==============================] - 1s 9ms/step - loss: 0.0941 - accuracy: 0.9713\n",
            "Epoch 5/16\n",
            "59/59 [==============================] - 0s 8ms/step - loss: 0.0743 - accuracy: 0.9774\n",
            "Epoch 6/16\n",
            "59/59 [==============================] - 0s 7ms/step - loss: 0.0602 - accuracy: 0.9810\n",
            "Epoch 7/16\n",
            "59/59 [==============================] - 0s 7ms/step - loss: 0.0510 - accuracy: 0.9844\n",
            "Epoch 8/16\n",
            "59/59 [==============================] - 0s 7ms/step - loss: 0.0410 - accuracy: 0.9873\n",
            "Epoch 9/16\n",
            "59/59 [==============================] - 0s 7ms/step - loss: 0.0370 - accuracy: 0.9885\n",
            "Epoch 10/16\n",
            "59/59 [==============================] - 0s 8ms/step - loss: 0.0304 - accuracy: 0.9905\n",
            "Epoch 11/16\n",
            "59/59 [==============================] - 1s 9ms/step - loss: 0.0269 - accuracy: 0.9917\n",
            "Epoch 12/16\n",
            "59/59 [==============================] - 1s 12ms/step - loss: 0.0232 - accuracy: 0.9930\n",
            "Epoch 13/16\n",
            "59/59 [==============================] - 1s 9ms/step - loss: 0.0208 - accuracy: 0.9936\n",
            "Epoch 14/16\n",
            "59/59 [==============================] - 1s 11ms/step - loss: 0.0180 - accuracy: 0.9945\n",
            "Epoch 15/16\n",
            "59/59 [==============================] - 1s 10ms/step - loss: 0.0155 - accuracy: 0.9951\n",
            "Epoch 16/16\n",
            "59/59 [==============================] - 1s 11ms/step - loss: 0.0148 - accuracy: 0.9953\n"
          ]
        },
        {
          "output_type": "execute_result",
          "data": {
            "text/plain": [
              "<keras.callbacks.History at 0x7fd78d808490>"
            ]
          },
          "metadata": {},
          "execution_count": 6
        }
      ]
    },
    {
      "cell_type": "markdown",
      "source": [
        "## Testing"
      ],
      "metadata": {
        "id": "Hp8bgRVjH71x"
      }
    },
    {
      "cell_type": "code",
      "source": [
        "test_loss, test_acc = model.evaluate(images_test, labels_test)\n",
        "print('Test accuracy:', test_acc)"
      ],
      "metadata": {
        "colab": {
          "base_uri": "https://localhost:8080/"
        },
        "id": "B5-_6YISHq3V",
        "outputId": "8b6d3bc7-2063-4bfe-9e64-96f5d2fe80f8"
      },
      "execution_count": null,
      "outputs": [
        {
          "output_type": "stream",
          "name": "stdout",
          "text": [
            "313/313 [==============================] - 2s 5ms/step - loss: 0.0599 - accuracy: 0.9827\n",
            "Test accuracy: 0.982699990272522\n"
          ]
        }
      ]
    },
    {
      "cell_type": "markdown",
      "source": [
        "# TFLite"
      ],
      "metadata": {
        "id": "d8_CaSSSKId4"
      }
    },
    {
      "cell_type": "markdown",
      "source": [
        "## TF to TFLite"
      ],
      "metadata": {
        "id": "v9FAr8NOKzNP"
      }
    },
    {
      "cell_type": "code",
      "source": [
        "mnist_ds = tf.data.Dataset.from_tensor_slices((images_train.astype('float32'))).batch(1)\n",
        "def representative_data_gen():\n",
        "  for input_value in mnist_ds.take(100):\n",
        "    yield [input_value]\n",
        "\n",
        "converter = tf.lite.TFLiteConverter.from_keras_model(model)\n",
        "converter.optimizations = [tf.lite.Optimize.DEFAULT]\n",
        "converter.representative_dataset = representative_data_gen\n",
        "converter.target_spec.supported_ops = [tf.lite.OpsSet.TFLITE_BUILTINS_INT8]\n",
        "converter.inference_input_type = tf.int8\n",
        "converter.inference_output_type = tf.int8\n",
        "tflite_quant_model = converter.convert()\n",
        "with open('model.tflite', 'wb') as o_:\n",
        "    o_.write(tflite_quant_model)"
      ],
      "metadata": {
        "colab": {
          "base_uri": "https://localhost:8080/"
        },
        "id": "1yjIz4WlJicH",
        "outputId": "24ef9043-a3e2-4993-fffe-515d12738f50"
      },
      "execution_count": null,
      "outputs": [
        {
          "output_type": "stream",
          "name": "stderr",
          "text": [
            "/usr/local/lib/python3.8/dist-packages/tensorflow/lite/python/convert.py:765: UserWarning: Statistics for quantized inputs were expected, but not specified; continuing anyway.\n",
            "  warnings.warn(\"Statistics for quantized inputs were expected, but not \"\n"
          ]
        }
      ]
    },
    {
      "cell_type": "markdown",
      "source": [
        "## Sample"
      ],
      "metadata": {
        "id": "Ymby94vMhOLY"
      }
    },
    {
      "cell_type": "code",
      "source": [
        "index = 0\n",
        "sample = images_test[index]\n",
        "plt.figure()\n",
        "plt.rcParams['image.cmap']='Greys'\n",
        "plt.imshow(sample)\n",
        "plt.grid(False)\n",
        "plt.xlabel(\"Classification label: {}\".format(labels_test[index]))\n",
        "plt.colorbar()\n",
        "plt.show()"
      ],
      "metadata": {
        "colab": {
          "base_uri": "https://localhost:8080/",
          "height": 283
        },
        "id": "TGw7XyIUQByu",
        "outputId": "584f5678-0c78-499b-d7be-dfd2a2c096a3"
      },
      "execution_count": null,
      "outputs": [
        {
          "output_type": "display_data",
          "data": {
            "text/plain": [
              "<Figure size 432x288 with 2 Axes>"
            ],
            "image/png": "[encoded data removed]"
          },
          "metadata": {
            "needs_background": "light"
          }
        }
      ]
    },
    {
      "cell_type": "markdown",
      "source": [
        "## TFLite inference"
      ],
      "metadata": {
        "id": "MQgL3YplhKeh"
      }
    },
    {
      "cell_type": "code",
      "source": [
        "interpreter = tf.lite.Interpreter(model_path='model.tflite')\n",
        "interpreter.allocate_tensors()\n",
        "input_details = interpreter.get_input_details()\n",
        "output_details = interpreter.get_output_details()\n",
        "scale, zero_point = input_details[0]['quantization']\n",
        "print(\"Scale :\", scale, \"  \", \"Zero Point :\", zero_point)\n",
        "int_image = np.around(sample.astype('float32')/scale+zero_point).astype('int8')\n",
        "int_image = np.expand_dims(int_image, axis=0)\n",
        "interpreter.set_tensor(input_details[0]['index'], int_image)\n",
        "interpreter.invoke()\n",
        "output = interpreter.get_tensor(output_details[0]['index'])\n",
        "print(output)\n",
        "print(\"Prediction :\", np.argmax(output))"
      ],
      "metadata": {
        "colab": {
          "base_uri": "https://localhost:8080/"
        },
        "id": "o8-1AZa9Vqzv",
        "outputId": "543d2480-9f27-455c-aae1-be1aff429e56"
      },
      "execution_count": null,
      "outputs": [
        {
          "output_type": "stream",
          "name": "stdout",
          "text": [
            "Scale : 0.003921568859368563    Zero Point : -128\n",
            "[[-128 -128 -128 -128 -128 -128 -128  127 -128 -128]]\n",
            "Prediction : 7\n"
          ]
        }
      ]
    },
    {
      "cell_type": "code",
      "source": [
        "fc0_w = interpreter.get_tensor(7)\n",
        "fc0_b = interpreter.get_tensor(6)\n",
        "fc0_w_scale = interpreter.get_tensor_details()[7]['quantization_parameters']['scales'][0]\n",
        "fc0_b_scale = interpreter.get_tensor_details()[6]['quantization_parameters']['scales'][0]\n",
        "fc0_scale = interpreter.get_tensor_details()[9]['quantization_parameters']['scales'][0]\n",
        "fc0_zero_point = interpreter.get_tensor_details()[9]['quantization_parameters']['zero_points'][0]\n",
        "fc1_w = interpreter.get_tensor(5)\n",
        "fc1_b = interpreter.get_tensor(4)\n",
        "fc1_w_scale = interpreter.get_tensor_details()[5]['quantization_parameters']['scales'][0]\n",
        "fc1_b_scale = interpreter.get_tensor_details()[4]['quantization_parameters']['scales'][0]\n",
        "fc1_scale = interpreter.get_tensor_details()[10]['quantization_parameters']['scales'][0]\n",
        "fc1_zero_point = interpreter.get_tensor_details()[10]['quantization_parameters']['zero_points'][0]\n",
        "fc2_w = interpreter.get_tensor(3)\n",
        "fc2_b = interpreter.get_tensor(2)\n",
        "fc2_w_scale = interpreter.get_tensor_details()[3]['quantization_parameters']['scales'][0]\n",
        "fc2_b_scale = interpreter.get_tensor_details()[2]['quantization_parameters']['scales'][0]\n",
        "fc2_scale = interpreter.get_tensor_details()[11]['quantization_parameters']['scales'][0]\n",
        "fc2_zero_point = interpreter.get_tensor_details()[11]['quantization_parameters']['zero_points'][0]"
      ],
      "metadata": {
        "id": "3vFh8BGbbMGe"
      },
      "execution_count": null,
      "outputs": []
    },
    {
      "cell_type": "code",
      "source": [
        "np.set_printoptions(suppress=True)\n",
        "int_image = int_image.reshape(-1)\n",
        "result = fc0_w.astype('int32')@int_image.astype('int32') - zero_point*np.sum(fc0_w, 1) + fc0_b\n",
        "result = np.clip(result, 0, None)\n",
        "result = result*(fc0_b_scale/fc0_scale)+fc0_zero_point\n",
        "result = np.clip(result, -128, 127)\n",
        "result = np.round(result).astype('int8')\n",
        "result = fc1_w.astype('int32')@result.astype('int32') - fc0_zero_point*np.sum(fc1_w, 1) + fc1_b\n",
        "result = np.clip(result, 0, None)\n",
        "result = result*(fc1_b_scale/fc1_scale)+fc1_zero_point\n",
        "result = np.clip(result, -128, 127)\n",
        "result = np.round(result).astype('int8')\n",
        "result = fc2_w.astype('int32')@result.astype('int32') - fc1_zero_point*np.sum(fc2_w, 1) + fc2_b\n",
        "result = result*(fc2_b_scale/fc2_scale)+fc2_zero_point\n",
        "result = np.round(result).astype('int8')\n",
        "print(np.argmax(result))"
      ],
      "metadata": {
        "colab": {
          "base_uri": "https://localhost:8080/"
        },
        "id": "2qTSemzkhI_s",
        "outputId": "45a27a62-f57e-4b60-d960-b84005a09df8"
      },
      "execution_count": null,
      "outputs": [
        {
          "output_type": "stream",
          "name": "stdout",
          "text": [
            "7\n"
          ]
        }
      ]
    },
    {
      "cell_type": "code",
      "source": [],
      "metadata": {
        "id": "XABvMuwpD9fP"
      },
      "execution_count": null,
      "outputs": []
    }
  ]
}